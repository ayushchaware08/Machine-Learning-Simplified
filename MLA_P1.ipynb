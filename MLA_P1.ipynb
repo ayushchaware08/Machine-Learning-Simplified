{
  "nbformat": 4,
  "nbformat_minor": 0,
  "metadata": {
    "colab": {
      "provenance": [],
      "authorship_tag": "ABX9TyN+cRqH1Obzv114airiHTCt"
    },
    "kernelspec": {
      "name": "python3",
      "display_name": "Python 3"
    },
    "language_info": {
      "name": "python"
    }
  },
  "cells": [
    {
      "cell_type": "markdown",
      "source": [
        "**Name** : Ayush Chaware\n",
        "\n",
        "**Roll No.:** 22\n",
        "\n",
        "**Section:** A1\n",
        "\n"
      ],
      "metadata": {
        "id": "3C6L4WXAKHwt"
      }
    },
    {
      "cell_type": "code",
      "execution_count": null,
      "metadata": {
        "colab": {
          "base_uri": "https://localhost:8080/"
        },
        "id": "uNA7g87F9_Z_",
        "outputId": "c2d15a87-b41c-4f58-e361-2bfb2741f239"
      },
      "outputs": [
        {
          "output_type": "stream",
          "name": "stdout",
          "text": [
            "Enter the number : 4\n",
            "factorial of  4 = 24\n"
          ]
        }
      ],
      "source": [
        "#Factorial of n\n",
        "num = int (input(\"Enter the number : \"))\n",
        "ans = 1\n",
        "if num <0:\n",
        "  print(\"invalid\")\n",
        "elif num == 0:\n",
        "  print(\" factorial of O is 1\")\n",
        "else:\n",
        "  for i in range ( 1, num +1):\n",
        "    ans = ans * i\n",
        "  print(\"factorial of \", num,  \"=\", ans )\n"
      ]
    },
    {
      "cell_type": "code",
      "source": [
        "# fibonacci series\n",
        "num = int (input(\"Enter the number : \"))\n",
        "a = -1\n",
        "b = 1\n",
        "for i in range ( 1, num):\n",
        "   ans = a + b\n",
        "   a = b\n",
        "   b = ans\n",
        "   print(ans)\n",
        "\n"
      ],
      "metadata": {
        "colab": {
          "base_uri": "https://localhost:8080/"
        },
        "id": "WTl6hsJv-rub",
        "outputId": "3462f1d2-7409-4162-932d-5486154847d0"
      },
      "execution_count": null,
      "outputs": [
        {
          "output_type": "stream",
          "name": "stdout",
          "text": [
            "Enter the number : 10\n",
            "0\n",
            "1\n",
            "1\n",
            "2\n",
            "3\n",
            "5\n",
            "8\n",
            "13\n",
            "21\n"
          ]
        }
      ]
    },
    {
      "cell_type": "code",
      "source": [
        "# Marks of student\n",
        "import numpy as np"
      ],
      "metadata": {
        "id": "X1ucxgXxD7oP"
      },
      "execution_count": null,
      "outputs": []
    },
    {
      "cell_type": "code",
      "source": [
        "\n",
        "a = np.array([])\n",
        "# for i in a:\n",
        "name = input(\"Name : \")\n",
        "\n",
        "rollno = eval(input(\"Roll No. : \"))\n",
        "\n",
        "print(\"Enter the marks : \")\n",
        "marks = []\n",
        "for i in range(5):\n",
        "    input1 = input(\"Subject marks: \")\n",
        "    marks.append(input1)\n",
        "print(marks)"
      ],
      "metadata": {
        "colab": {
          "base_uri": "https://localhost:8080/"
        },
        "id": "wdtTXCwWD4lz",
        "outputId": "b2c8554d-01d2-4613-8c94-e46a4a485c10"
      },
      "execution_count": null,
      "outputs": [
        {
          "output_type": "stream",
          "name": "stdout",
          "text": [
            "Name : Ayush\n",
            "Roll No. : 22\n",
            "Enter the marks : \n",
            "Subject marks: 98\n",
            "Subject marks: 78\n",
            "Subject marks: 87\n",
            "Subject marks: 88\n",
            "Subject marks: 97\n",
            "['98', '78', '87', '88', '97']\n"
          ]
        }
      ]
    },
    {
      "cell_type": "code",
      "source": [
        "a = int(input(\"Subject 1 : \"))\n",
        "b = int(input(\"Subject 2 : \"))\n",
        "c = int(input(\"Subject 3 : \"))\n",
        "d = int(input(\"Subject 4 : \"))\n",
        "e = int(input(\"Subject 5 : \"))\n",
        "\n",
        "percentage = ((a + b + c + d + e)/500)*100\n",
        "print(\"Percentage =\", percentage)\n",
        "\n",
        "CGPA = percentage / 9.5\n",
        "print(\"CGPA = \", CGPA)"
      ],
      "metadata": {
        "colab": {
          "base_uri": "https://localhost:8080/"
        },
        "id": "AoI7e7ZIH4zA",
        "outputId": "2410c936-e522-495a-e3b9-096b4cf2c995"
      },
      "execution_count": null,
      "outputs": [
        {
          "output_type": "stream",
          "name": "stdout",
          "text": [
            "Subject 1 : 74\n",
            "Subject 2 : 55\n",
            "Subject 3 : 57\n",
            "Subject 4 : 84\n",
            "Subject 5 : 87\n",
            "Percentage = 71.39999999999999\n",
            "CGPA =  7.51578947368421\n"
          ]
        }
      ]
    },
    {
      "cell_type": "code",
      "source": [
        "n = input(\"enter n :\")\n"
      ],
      "metadata": {
        "id": "rE8kaDrxXfZ8"
      },
      "execution_count": null,
      "outputs": []
    }
  ]
}